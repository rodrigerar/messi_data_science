{
 "cells": [
  {
   "cell_type": "markdown",
   "id": "63c754c1",
   "metadata": {},
   "source": [
    "## Implementing rineal regression problem with Python\n",
    "\n",
    "Now, we are ready to implement our own linear regression example. \n",
    "\n",
    "In linear regression, our hypothesis function $h_\\theta$ is:\n",
    "\n",
    "$$h_\\theta(x) = \\theta_0 + \\theta_1x$$\n",
    "\n",
    "And, as we are doing regression, our cost function is: \n",
    "\n",
    "$$J(\\theta_0,\\theta_1) = \\frac{1}{m}\\sum_{i=1}^m(\\hat{y}_i-y_i)^2 = \\frac{1}{m}\\sum_{i=1}^m(h_\\theta(x_i)-y_i)^2 $$\n",
    "\n",
    "Nota that, the cost funtion is just the sum of all the square errors from our hypothesis ($\\hat{y}_i$) versus the data ($y_i$).\n",
    "\n",
    "The best parameters for our hypothesis will give us the **minimum cost function**."
   ]
  },
  {
   "cell_type": "markdown",
   "id": "28d436a1",
   "metadata": {},
   "source": [
    "## Finding a minimum for J"
   ]
  },
  {
   "cell_type": "markdown",
   "id": "b8d73d9a",
   "metadata": {},
   "source": [
    "Finding a minimum of a function is equivalent to finding the parameters that make the gradient of that function to vanish. In other words:\n",
    "\n",
    "$$\\nabla_{\\theta} J(\\theta) = 0$$\n",
    "\n",
    "We will implement two ways of solving this problem."
   ]
  },
  {
   "cell_type": "markdown",
   "id": "6fbb8200",
   "metadata": {},
   "source": [
    "### A) Gradient descent (Numerical method)\n",
    "\n",
    "\n",
    "From a starting point ($\\theta$), we will try to move to a new point $\\theta '$, decreasing the cost funtion ($J(\\theta)$). We will do this many times, up to we find a minimum (or close enough to it).\n",
    "\n",
    "#### Partial differentials of the cost function (using chain rule)\n",
    "\n",
    "$$\\frac{\\partial J}{\\partial\\theta_0} = \\frac{2}{m}\\sum_{i=1}^m(h_\\theta(x_i)-y_i)$$\n",
    "\n",
    "$$\\frac{\\partial J}{\\partial\\theta_1} = \\frac{2}{m}\\sum_{i=1}^m(h_\\theta(x_i)-y_i) \\cdot x_i$$\n",
    "\n",
    "Finally, we need to update iteratively the values for $\\theta_0$ and $\\theta_1$. Using Gradient Descent algorithm  with learning rate ($\\alpha$) until convergence criterion ($\\epsilon$) is achieved:\n",
    "\n",
    "         while (convergence==False):\n",
    "$$\\theta_0' = \\theta_0 - \\alpha \\frac{\\partial J}{\\partial\\theta_0} $$\n",
    "$$\\theta_1' = \\theta_1 - \\alpha \\frac{\\partial J}{\\partial\\theta_1} $$\n",
    "$$J' = J(\\theta_0',\\theta_1')$$\n",
    "$$\\Delta J = abs(J'-J)$$\n",
    "$$ convergence = (\\Delta J < \\epsilon)$$"
   ]
  },
  {
   "cell_type": "markdown",
   "id": "596f90e1",
   "metadata": {},
   "source": [
    "### Assigment 02/12/2021\n",
    "\n",
    "Mejorar el algoritmo básico hecho en clase:\n",
    "\n",
    "* Guardando todos los thetas y costes para poder luego plotear para cada iteración como evolucionan las cosas.\n",
    "* Encapsular esto en una función.\n",
    "* Crear un modulo .py para poder volver a utilizar esto en el futuro.\n",
    "* Subir este modulo y un notebook demostrativo al repo (github).\n",
    "* Explorar cosas que os interesen (ejemplo: avisar si converge o no, devolver diccionarios en lugar de listas...).\n",
    "* Buscar datos en internet que sepamos que pueden ajustarse a una recta y comparar con nuestro algoritmo.\n",
    "(Hint): para plotear usar IMPORT MATPLOTLIB.PYPLOT AS PLT: plt.plot, plt.scatter"
   ]
  },
  {
   "cell_type": "code",
   "execution_count": 77,
   "id": "d6496a11",
   "metadata": {},
   "outputs": [
    {
     "data": {
      "image/png": "[encoded data removed]",
      "text/plain": [
       "<Figure size 864x576 with 1 Axes>"
      ]
     },
     "metadata": {
      "needs_background": "light"
     },
     "output_type": "display_data"
    }
   ],
   "source": [
    "import scipy.io as scio\n",
    "import numpy as np\n",
    "import matplotlib.pyplot as plt\n",
    "%matplotlib inline\n",
    "\n",
    "\n",
    "theta0 = -2\n",
    "theta1 = 5\n",
    "\n",
    "\n",
    "X = (np.random.randn(100) + 1) * 50\n",
    "jitter = 75 * np.random.randn(100)\n",
    "y = theta0 + theta1 * X + jitter\n",
    "\n",
    "fig, ax = plt.subplots(figsize=(12,8))\n",
    "ax.scatter(X, y)\n",
    "ax.grid(True)"
   ]
  },
  {
   "cell_type": "markdown",
   "id": "a4f1ab6d",
   "metadata": {},
   "source": [
    "## 1) Gradient Descent"
   ]
  },
  {
   "cell_type": "markdown",
   "id": "25b45079",
   "metadata": {},
   "source": [
    "### 1.1) Defining Cost Function"
   ]
  },
  {
   "cell_type": "code",
   "execution_count": 5,
   "id": "ef502b4e",
   "metadata": {},
   "outputs": [],
   "source": [
    "def cost_funtion_lambdas (X, y):\n",
    "    return lambda thetas: sum ((thetas[0] + thetas[1] *X - y)**2)/len(X)"
   ]
  },
  {
   "cell_type": "markdown",
   "id": "04254b51",
   "metadata": {},
   "source": [
    "### 1.2) Defining Derivates Functions"
   ]
  },
  {
   "cell_type": "code",
   "execution_count": 6,
   "id": "1bb30580",
   "metadata": {},
   "outputs": [],
   "source": [
    "def derivative_theta0 (X, y):\n",
    "    return lambda theta0, theta1: 2*sum(theta0 + theta1 * X - y) / len(X)\n",
    "\n",
    "def derivative_theta1 (X, y):\n",
    "    return lambda theta0, theta1: 2*sum((theta0 + theta1 * X - y) * X) / len(X)"
   ]
  },
  {
   "cell_type": "markdown",
   "id": "acc5f418",
   "metadata": {},
   "source": [
    "### 1.3) Defining Gradient Desceny Function"
   ]
  },
  {
   "cell_type": "code",
   "execution_count": 7,
   "id": "6e704063",
   "metadata": {},
   "outputs": [],
   "source": [
    "def gradient_descent (theta0, theta1):\n",
    "    f_dic = {}\n",
    "    f_dic['theta0'] = theta0 - alpha*J_prime_0(theta0, theta1)\n",
    "    f_dic['theta1'] = theta1 - alpha*J_prime_1(theta0, theta1)\n",
    "    f_dic['cost'] = J([theta0, theta1])\n",
    "    return (f_dic)"
   ]
  },
  {
   "cell_type": "code",
   "execution_count": 79,
   "id": "bbfba43a",
   "metadata": {},
   "outputs": [
    {
     "name": "stdout",
     "output_type": "stream",
     "text": [
      "Convergence FOUND!\n",
      "Iterations: 4 | theta0: -1.9966549556748021 | theta1: 4.92704884615817 | Cost: 4903.65924799736\n"
     ]
    }
   ],
   "source": [
    "# Setting working variables:\n",
    "nmax = 100000\n",
    "alpha = 0.0001\n",
    "eps = 0.1\n",
    "cost_before = 0\n",
    "\n",
    "# Initializing empty lists\n",
    "theta0_list = []\n",
    "theta1_list = []\n",
    "cost_list = []\n",
    "\n",
    "theta0, theta1 = [-2, 5]\n",
    "J = cost_funtion_lambdas (X,y)\n",
    "J_prime_0 = derivative_theta0(X,y)\n",
    "J_prime_1 = derivative_theta1(X,y)\n",
    "\n",
    "for i in range (0,nmax):\n",
    "    gradient_descent_dic = gradient_descent (theta0, theta1)\n",
    "    theta0 = gradient_descent_dic['theta0']\n",
    "    theta1 = gradient_descent_dic['theta1']\n",
    "    cost = gradient_descent_dic['cost']\n",
    "    theta0_list.append(gradient_descent_dic['theta0'])\n",
    "    theta1_list.append(gradient_descent_dic['theta1'])\n",
    "    cost_list.append(gradient_descent_dic['cost'])\n",
    "    \n",
    "    convergense = np.abs(cost - cost_before) < eps\n",
    "    cost_before = cost\n",
    "    \n",
    "    if convergense == True:\n",
    "        print (\"Convergence FOUND!\")\n",
    "        print (\"Iterations: {} | theta0: {} | theta1: {} | Cost: {}\".format(i+1, theta0_list[i], theta1_list[i], cost_list[i]))\n",
    "        break\n",
    "\n"
   ]
  },
  {
   "cell_type": "markdown",
   "id": "af3bdf71",
   "metadata": {},
   "source": [
    "### Cost evolution"
   ]
  },
  {
   "cell_type": "code",
   "execution_count": 83,
   "id": "932652a9",
   "metadata": {},
   "outputs": [
    {
     "data": {
      "text/plain": [
       "[<matplotlib.lines.Line2D at 0x7fe27b24a0d0>]"
      ]
     },
     "execution_count": 83,
     "metadata": {},
     "output_type": "execute_result"
    },
    {
     "data": {
      "image/png": "[encoded data removed]",
      "text/plain": [
       "<Figure size 432x288 with 1 Axes>"
      ]
     },
     "metadata": {
      "needs_background": "light"
     },
     "output_type": "display_data"
    }
   ],
   "source": [
    "plt.plot(cost_list)\n",
    "plt.plot(cost_list, 'o')\n",
    "#print (cost_list)"
   ]
  }
 ],
 "metadata": {
  "kernelspec": {
   "display_name": "Python 3",
   "language": "python",
   "name": "python3"
  },
  "language_info": {
   "codemirror_mode": {
    "name": "ipython",
    "version": 3
   },
   "file_extension": ".py",
   "mimetype": "text/x-python",
   "name": "python",
   "nbconvert_exporter": "python",
   "pygments_lexer": "ipython3",
   "version": "3.8.8"
  }
 },
 "nbformat": 4,
 "nbformat_minor": 5
}
